{
  "nbformat": 4,
  "nbformat_minor": 0,
  "metadata": {
    "colab": {
      "provenance": [],
      "collapsed_sections": [
        "QOG4GwrZ9CUI"
      ],
      "authorship_tag": "ABX9TyPctIrpiGyP66skzBen5Cjq",
      "include_colab_link": true
    },
    "kernelspec": {
      "name": "python3",
      "display_name": "Python 3"
    },
    "language_info": {
      "name": "python"
    }
  },
  "cells": [
    {
      "cell_type": "markdown",
      "metadata": {
        "id": "view-in-github",
        "colab_type": "text"
      },
      "source": [
        "<a href=\"https://colab.research.google.com/github/Divs-Git/OOP-Python/blob/main/Encapsulation%20and%20static%20variables.ipynb\" target=\"_parent\"><img src=\"https://colab.research.google.com/assets/colab-badge.svg\" alt=\"Open In Colab\"/></a>"
      ]
    },
    {
      "cell_type": "markdown",
      "source": [
        "#Encapsulation & Static Keyword"
      ],
      "metadata": {
        "id": "QOG4GwrZ9CUI"
      }
    },
    {
      "cell_type": "markdown",
      "source": [
        "# Write OOP classes to handle the following Scenarios\n"
      ],
      "metadata": {
        "id": "dFSE0DAx9vc9"
      }
    },
    {
      "cell_type": "markdown",
      "source": [
        "* A user can create and view 2D coordinates\n",
        "* A user can find out the distance between 2 coordinates\n",
        "* A user can find the distance of a coordinate from origin\n",
        "* A user can check if a point lies on a given line\n",
        "* A use can find the distance between a given 2D point and a given line\n",
        "\n"
      ],
      "metadata": {
        "id": "zp54FpBU-AGS"
      }
    },
    {
      "cell_type": "code",
      "source": [
        "class Point:\n",
        "\n",
        "    def __init__(self,x,y):\n",
        "        self.x_cord = x\n",
        "        self.y_cord = y\n",
        "    \n",
        "    def __str__(self):\n",
        "        return \"<{},{}>\".format(self.x_cord,self.y_cord)\n",
        "\n",
        "    def euclidean_distance(self,other):\n",
        "        value = (self.x_cord - other.x_cord)**2 + (self.y_cord - other.y_cord)**2\n",
        "        return value**0.5\n",
        "    \n",
        "    def distance_from_origin(self):\n",
        "        return self.euclidean_distance(Point(0,0)) \n",
        "     \n",
        "\n",
        "class Line:\n",
        "\n",
        "    def __init__(self,A,B,C):\n",
        "        self.A = A\n",
        "        self.B = B\n",
        "        self.C = C\n",
        "    \n",
        "    def __str__(self):\n",
        "        return \"{}x + {}y + {}\".format(self.A,self.B,self.C)\n",
        "    \n",
        "    def point_on_line(line,point):\n",
        "        if line.A*point.x_cord + line.B*point.y_cord + line.C == 0:\n",
        "            return \"Lies on the line\"\n",
        "        else:\n",
        "            return \"Not Lies on the line\"\n",
        "        \n",
        "    def shortest_distance(line,point):\n",
        "        return abs(line.A*point.x_cord + line.B*point.y_cord + line.C)/(line.A**2 + line.B**2)**0.5\n",
        "\n",
        "    def check_intersection(self,other):\n",
        "        if (self.A/other.A != self.B/other.B) or (self.A/other.A == self.B/other.B == self.C/other.C):\n",
        "            return \"Intersect\"\n",
        "        else:\n",
        "            return \"Not Intersect\""
      ],
      "metadata": {
        "id": "_T4M3I5n9-VU"
      },
      "execution_count": 37,
      "outputs": []
    },
    {
      "cell_type": "code",
      "source": [
        "p1 = Point(0,0)\n",
        "print(p1)\n",
        "p2 = Point(1,1)\n",
        "print(p2)\n",
        "\n",
        "ans1 = p1.euclidean_distance(p2)\n",
        "print(ans1)\n",
        "p2.distance_from_origin()\n",
        "\n",
        "l1 = Line(1,1,-2)\n",
        "p3 = Point(1,2)\n",
        "print(l1)\n",
        "print(p3)\n",
        "print(l1.point_on_line(p3))\n",
        "\n",
        "l1.shortest_distance(p3)\n",
        "\n",
        "l2 = Line(1,34,-3)\n",
        "l3 = Line(5,-2,-7)\n",
        "\n",
        "l2.check_intersection(l3)\n"
      ],
      "metadata": {
        "colab": {
          "base_uri": "https://localhost:8080/",
          "height": 145
        },
        "id": "_SD8GIJGD7Cm",
        "outputId": "f3bfa0d2-2c91-4f55-f370-26d77deb2ac6"
      },
      "execution_count": 38,
      "outputs": [
        {
          "output_type": "stream",
          "name": "stdout",
          "text": [
            "<0,0>\n",
            "<1,1>\n",
            "1.4142135623730951\n",
            "1x + 1y + -2\n",
            "<1,2>\n",
            "Not Lies on the line\n"
          ]
        },
        {
          "output_type": "execute_result",
          "data": {
            "text/plain": [
              "'Intersect'"
            ],
            "application/vnd.google.colaboratory.intrinsic+json": {
              "type": "string"
            }
          },
          "metadata": {},
          "execution_count": 38
        }
      ]
    },
    {
      "cell_type": "markdown",
      "source": [
        "#Reference Variables"
      ],
      "metadata": {
        "id": "r4RURjlc4zjt"
      }
    },
    {
      "cell_type": "markdown",
      "source": [
        "* Reference variable hold the objects\n",
        "* We can create objects without reference varaiable as well\n",
        "* An object can have multiple reference variables\n",
        "* Assigning a new reference variable to an existing object create a new object"
      ],
      "metadata": {
        "id": "BVCCmGZl45gG"
      }
    },
    {
      "cell_type": "code",
      "source": [
        "# object without reference\n",
        "\n",
        "class Person:\n",
        "\n",
        "    def __init__(self):\n",
        "        self.name = \"Divyansh\"\n",
        "        self.gender = \"Male\"\n",
        "    \n",
        "\n",
        "Person()"
      ],
      "metadata": {
        "colab": {
          "base_uri": "https://localhost:8080/"
        },
        "id": "AjDJ3Hs84yxV",
        "outputId": "5a7ff50a-4b97-4440-948a-1ca6eeb29418"
      },
      "execution_count": 1,
      "outputs": [
        {
          "output_type": "execute_result",
          "data": {
            "text/plain": [
              "<__main__.Person at 0x7fd4d905dd30>"
            ]
          },
          "metadata": {},
          "execution_count": 1
        }
      ]
    },
    {
      "cell_type": "code",
      "source": [
        "# multiple references\n",
        "\n",
        "p = Person()\n",
        "q = p\n",
        "print(id(p))\n",
        "print(id(q))"
      ],
      "metadata": {
        "colab": {
          "base_uri": "https://localhost:8080/"
        },
        "id": "iSPahzRI6tIn",
        "outputId": "d0119180-e84e-4528-a9c3-e15073a7f522"
      },
      "execution_count": 2,
      "outputs": [
        {
          "output_type": "stream",
          "name": "stdout",
          "text": [
            "140552150833472\n",
            "140552150833472\n"
          ]
        }
      ]
    },
    {
      "cell_type": "markdown",
      "source": [
        "# Pass by reference"
      ],
      "metadata": {
        "id": "oh6Y--Lf7DRH"
      }
    },
    {
      "cell_type": "markdown",
      "source": [
        "**User drfined objects are by default mutable in python**\n",
        "\n",
        "**means ---> we can modify the object passed in a function and on returning to main function the object address will be the exactly same**"
      ],
      "metadata": {
        "id": "c8v1vXE36-Fr"
      }
    },
    {
      "cell_type": "code",
      "source": [
        "class Person:\n",
        "    \n",
        "    def __init__(self,name,gender):\n",
        "        self.name = name\n",
        "        self.gender = gender\n",
        "\n",
        "# outside the class------>\n",
        "# class object is passed to a function\n",
        "def greet(person):\n",
        "    print(\"Hi my name is\",person.name,\"and i am a\",person.gender)\n",
        "   \n",
        "    p1 = Person(\"Shubham\",\"male\")\n",
        "    return p1  # function returns an object\n",
        "\n",
        "p = Person(\"Divyansh\",\"male\")\n",
        "x = greet(p)\n",
        "print(x.name)\n",
        "print(x.gender) \n"
      ],
      "metadata": {
        "colab": {
          "base_uri": "https://localhost:8080/"
        },
        "id": "VLm2iItt9Wz4",
        "outputId": "2032172d-6689-4db3-ac3f-8d22942d87b9"
      },
      "execution_count": 9,
      "outputs": [
        {
          "output_type": "stream",
          "name": "stdout",
          "text": [
            "Hi my name is Divyansh and i am a male\n",
            "Shubham\n",
            "male\n"
          ]
        }
      ]
    },
    {
      "cell_type": "markdown",
      "source": [
        "# Encapsulation"
      ],
      "metadata": {
        "id": "hgz-4etzC48z"
      }
    },
    {
      "cell_type": "markdown",
      "source": [
        "Writing different method inside a class to protect them"
      ],
      "metadata": {
        "id": "GwbCifz8enRM"
      }
    },
    {
      "cell_type": "code",
      "source": [
        "# instance var ---> variable value depends on the object--> data in a class\n",
        "# values different for different objects"
      ],
      "metadata": {
        "id": "06MtXy8QC4CJ"
      },
      "execution_count": 8,
      "outputs": []
    },
    {
      "cell_type": "code",
      "source": [
        "# Always use __ to method and data to make them private\n",
        "# the variable will now be stored in another value name called as\n",
        "# _<class_name>__<method/data_name>"
      ],
      "metadata": {
        "id": "hK5BGnNtEc-U"
      },
      "execution_count": 7,
      "outputs": []
    },
    {
      "cell_type": "code",
      "source": [
        "# concept of getter and setter---> used to access and modify from outside private \n",
        "\n",
        "def get_balance(self):\n",
        "    return self.__balance\n",
        "\n",
        "def set_balance(self,new_value):\n",
        "    # we can write logic to protect the private method and data\n",
        "    if type(new_value) == int:\n",
        "        self.__balance = new_value\n",
        "    else:\n",
        "        print(\"Access Denied\")"
      ],
      "metadata": {
        "id": "XpJxrAklclRe"
      },
      "execution_count": null,
      "outputs": []
    },
    {
      "cell_type": "markdown",
      "source": [
        "# Static variable (vs instance variable)"
      ],
      "metadata": {
        "id": "pGfseXbRff5m"
      }
    },
    {
      "cell_type": "code",
      "source": [
        "# unique customer id for each object\n",
        "# we need a variable that is independent of the object\n",
        "# so we use static variable---> it is class variable\n",
        "\n",
        "\n",
        "# Instance variable----> value is different for different objects (object variable)\n",
        "# Static variable -----> value is same for the object of a class (class varaible)"
      ],
      "metadata": {
        "id": "p_gwmTJuffF-"
      },
      "execution_count": null,
      "outputs": []
    },
    {
      "cell_type": "code",
      "source": [
        "# static variable is defined ouside the constructor\n",
        "\n",
        "class Person:\n",
        "\n",
        "    __counter = 1\n",
        "\n",
        "    def _init_(self):\n",
        "        self.cid = Person.__counter # class name.variable----> static variable\n",
        "        Person.__counter += 1\n",
        "        print(self.cid)\n",
        "\n",
        "\n"
      ],
      "metadata": {
        "id": "sT9KWhTHhMwo"
      },
      "execution_count": 25,
      "outputs": []
    },
    {
      "cell_type": "code",
      "source": [
        "c1 = Person()\n",
        "c2 = Person()\n",
        "c3 = Person()"
      ],
      "metadata": {
        "id": "hpyW_w9giOng"
      },
      "execution_count": 26,
      "outputs": []
    }
  ]
}