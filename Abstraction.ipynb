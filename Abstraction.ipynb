{
  "nbformat": 4,
  "nbformat_minor": 0,
  "metadata": {
    "colab": {
      "provenance": [],
      "authorship_tag": "ABX9TyOuYjMPNqNFpMagmJKIzDbU",
      "include_colab_link": true
    },
    "kernelspec": {
      "name": "python3",
      "display_name": "Python 3"
    },
    "language_info": {
      "name": "python"
    }
  },
  "cells": [
    {
      "cell_type": "markdown",
      "metadata": {
        "id": "view-in-github",
        "colab_type": "text"
      },
      "source": [
        "<a href=\"https://colab.research.google.com/github/Divs-Git/OOP-Python/blob/main/Abstraction.ipynb\" target=\"_parent\"><img src=\"https://colab.research.google.com/assets/colab-badge.svg\" alt=\"Open In Colab\"/></a>"
      ]
    },
    {
      "cell_type": "markdown",
      "source": [
        "# Abstraction\n",
        "**Hiding implementation details and applying some clause for child class to use its method**"
      ],
      "metadata": {
        "id": "GtF8b3ulhs4o"
      }
    },
    {
      "cell_type": "code",
      "execution_count": 1,
      "metadata": {
        "id": "l4ylJ-ImhZlU"
      },
      "outputs": [],
      "source": [
        "from abc import ABC,abstractmethod\n",
        "class BankApp(ABC):  # abstract class--->having atleast one abstract method\n",
        "\n",
        "    def database(self):\n",
        "        print(\"connected to database\")\n",
        "    # child class need to use this security method (abstract method)\n",
        "    @abstractmethod # abstract method---> no code written and @ is written\n",
        "    def security(self):\n",
        "        pass"
      ]
    },
    {
      "cell_type": "code",
      "source": [
        "class MobileApp(BankApp):\n",
        "\n",
        "    def mobile_login(self):\n",
        "        print(\"Login into mobile\")\n",
        "    \n",
        "    def security(self):\n",
        "        print(\"Mobile security\")"
      ],
      "metadata": {
        "id": "h_UYnoAii0FY"
      },
      "execution_count": 3,
      "outputs": []
    },
    {
      "cell_type": "code",
      "source": [
        "mob1 = MobileApp()\n",
        "mob1.mobile_login()"
      ],
      "metadata": {
        "colab": {
          "base_uri": "https://localhost:8080/"
        },
        "id": "Pbo1_nlmjXVg",
        "outputId": "59e75f7c-5fae-470e-f138-d9638d5be07a"
      },
      "execution_count": 5,
      "outputs": [
        {
          "output_type": "stream",
          "name": "stdout",
          "text": [
            "Login into mobile\n"
          ]
        }
      ]
    },
    {
      "cell_type": "code",
      "source": [
        "# we can not make object of abstract class\n",
        "bank1 = BankApp()"
      ],
      "metadata": {
        "colab": {
          "base_uri": "https://localhost:8080/",
          "height": 243
        },
        "id": "3HkFNpykjvhB",
        "outputId": "fe3736fe-0f78-4007-c095-ba73e9d50d80"
      },
      "execution_count": 6,
      "outputs": [
        {
          "output_type": "error",
          "ename": "TypeError",
          "evalue": "ignored",
          "traceback": [
            "\u001b[0;31m---------------------------------------------------------------------------\u001b[0m",
            "\u001b[0;31mTypeError\u001b[0m                                 Traceback (most recent call last)",
            "\u001b[0;32m<ipython-input-6-07a9341a70cb>\u001b[0m in \u001b[0;36m<module>\u001b[0;34m\u001b[0m\n\u001b[1;32m      1\u001b[0m \u001b[0;31m# we can not make object of abstract class\u001b[0m\u001b[0;34m\u001b[0m\u001b[0;34m\u001b[0m\u001b[0;34m\u001b[0m\u001b[0m\n\u001b[0;32m----> 2\u001b[0;31m \u001b[0mbank1\u001b[0m \u001b[0;34m=\u001b[0m \u001b[0mBankApp\u001b[0m\u001b[0;34m(\u001b[0m\u001b[0;34m)\u001b[0m\u001b[0;34m\u001b[0m\u001b[0;34m\u001b[0m\u001b[0m\n\u001b[0m",
            "\u001b[0;31mTypeError\u001b[0m: Can't instantiate abstract class BankApp with abstract methods security"
          ]
        }
      ]
    }
  ]
}