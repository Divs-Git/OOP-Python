{
  "nbformat": 4,
  "nbformat_minor": 0,
  "metadata": {
    "colab": {
      "provenance": [],
      "authorship_tag": "ABX9TyOLzWIgSfLTzAawa2CX0j9Q",
      "include_colab_link": true
    },
    "kernelspec": {
      "name": "python3",
      "display_name": "Python 3"
    },
    "language_info": {
      "name": "python"
    }
  },
  "cells": [
    {
      "cell_type": "markdown",
      "metadata": {
        "id": "view-in-github",
        "colab_type": "text"
      },
      "source": [
        "<a href=\"https://colab.research.google.com/github/Divs-Git/OOP-Python/blob/main/Inheritance_%26_Polymorphism_.ipynb\" target=\"_parent\"><img src=\"https://colab.research.google.com/assets/colab-badge.svg\" alt=\"Open In Colab\"/></a>"
      ]
    },
    {
      "cell_type": "markdown",
      "source": [
        "# Class Relationships"
      ],
      "metadata": {
        "id": "yMs2_phQibDE"
      }
    },
    {
      "cell_type": "markdown",
      "source": [
        "* Aggregation\n",
        "* Inheritence"
      ],
      "metadata": {
        "id": "gqMAhDMBi3nw"
      }
    },
    {
      "cell_type": "markdown",
      "source": [
        "# Aggregation(Has-A-relationship)"
      ],
      "metadata": {
        "id": "5YIhHccwjAdJ"
      }
    },
    {
      "cell_type": "markdown",
      "source": [
        "One class owns the other class"
      ],
      "metadata": {
        "id": "2P5IXkFsjVeS"
      }
    },
    {
      "cell_type": "code",
      "execution_count": 7,
      "metadata": {
        "colab": {
          "base_uri": "https://localhost:8080/"
        },
        "id": "jnkOp2--h6cm",
        "outputId": "1a6089ef-ba86-4ce4-835d-39182862a4e3"
      },
      "outputs": [
        {
          "output_type": "stream",
          "name": "stdout",
          "text": [
            "basti 272001 Uttar Pradesh\n",
            "Sultanpur 228118 Uttar Pradesh\n"
          ]
        }
      ],
      "source": [
        "#example: Customer has a relationship with address\n",
        "class Customer:\n",
        "\n",
        "    def __init__(self,name,gender,address):\n",
        "        self.name = name\n",
        "        self.gender = gender\n",
        "        self.address = address\n",
        "    \n",
        "    def print_address(self):\n",
        "        print(self.address.get_city(),self.address.pin,self.address.state)\n",
        "\n",
        "    def edit_profile(self,new_name,new_city,new_pin,new_state):\n",
        "        self.name = new_name\n",
        "        self.address.edit_address(new_city,new_pin,new_state)\n",
        "\n",
        "class Address:\n",
        "\n",
        "    def __init__(self,city,pin,state):\n",
        "        self.__city = city\n",
        "        self.pin = pin\n",
        "        self.state = state\n",
        "    \n",
        "    def get_city(self):\n",
        "        return self.__city\n",
        "\n",
        "    def edit_address(self,new_city,new_pin,new_state):\n",
        "        self.__city = new_city\n",
        "        self.pin = new_pin\n",
        "        self.state = new_state\n",
        "\n",
        "add1 = Address(\"basti\",272001,\"Uttar Pradesh\")\n",
        "cust = Customer(\"Divyansh\",\"Male\",add1)\n",
        "\n",
        "cust.print_address()\n",
        "cust.edit_profile(\"Saurabh\",\"Sultanpur\",228118,\"Uttar Pradesh\")\n",
        "cust.print_address()\n",
        "\n",
        "# private components in a class can't be accesed from another class having aggregation\n"
      ]
    },
    {
      "cell_type": "markdown",
      "source": [
        "# Inheritence\n"
      ],
      "metadata": {
        "id": "aZFIACG14Ezm"
      }
    },
    {
      "cell_type": "code",
      "source": [
        "# Inheritence and it's benefits ---> code reusability (DRY)\n"
      ],
      "metadata": {
        "id": "SXpGcNT84H_Q"
      },
      "execution_count": 8,
      "outputs": []
    },
    {
      "cell_type": "code",
      "source": [
        "# Example\n",
        "\n",
        "class User:\n",
        "\n",
        "    def __init__(self):\n",
        "        self.name = \"Divyansh\"\n",
        "    \n",
        "    def login(self):\n",
        "        print(\"Login\")\n",
        "\n",
        "class Student(User):   # Inheritence\n",
        "\n",
        "    # def __init__(self):\n",
        "    #     self.roll_no = 100\n",
        "    \n",
        "    def enroll(self):\n",
        "        print(\"Enroll into the course\")\n",
        "\n",
        "\n",
        "u = User()\n",
        "s = Student()\n",
        "\n",
        "s.enroll()\n",
        "s.login()\n",
        "print(s.name)\n",
        "# print(s.roll_no)"
      ],
      "metadata": {
        "colab": {
          "base_uri": "https://localhost:8080/"
        },
        "id": "G-znRMH-5A6s",
        "outputId": "8d627432-306e-49f9-d587-8de42ae5c33c"
      },
      "execution_count": 19,
      "outputs": [
        {
          "output_type": "stream",
          "name": "stdout",
          "text": [
            "Enroll into the course\n",
            "Login\n",
            "Divyansh\n"
          ]
        }
      ]
    },
    {
      "cell_type": "markdown",
      "source": [
        "# What gets Inherited\n",
        "* Constructor\n",
        "* Non Private Attributes\n",
        "* Non Private Methods"
      ],
      "metadata": {
        "id": "LGG2nTCVDpIq"
      }
    },
    {
      "cell_type": "code",
      "source": [
        "# If child doesn't has a Constructor then parent constructor is called\n",
        "# And if it has then it will call the constructor in the its class\n",
        "# Point to be noted is that due to this calling the constructor inside the parent class has never been called so the attributes and method inside parent class can't be accessed "
      ],
      "metadata": {
        "id": "Ufq11LLmDlCk"
      },
      "execution_count": 22,
      "outputs": []
    },
    {
      "cell_type": "code",
      "source": [
        "# Child can't access private members and methods of the parent class\n"
      ],
      "metadata": {
        "id": "araC4UA1F3LZ"
      },
      "execution_count": 25,
      "outputs": []
    },
    {
      "cell_type": "code",
      "source": [
        "# Method Overiding:---> If child and parent class has method of same name then method of child class will be called"
      ],
      "metadata": {
        "id": "tKRq4ng5OQ88"
      },
      "execution_count": null,
      "outputs": []
    },
    {
      "cell_type": "markdown",
      "source": [
        "# Super Keyword"
      ],
      "metadata": {
        "id": "9W_h-vxEPKnt"
      }
    },
    {
      "cell_type": "markdown",
      "source": [
        "**Super is always called inside child class**\n",
        "**Super only access the method not the attibutes members**"
      ],
      "metadata": {
        "id": "XzUvX1TvRnOj"
      }
    },
    {
      "cell_type": "code",
      "source": [
        "class Phone:\n",
        "\n",
        "    def __init__(self,price,brand,camera):\n",
        "        print(\"Inside phone constructor\")\n",
        "        self.__price = price\n",
        "        self.brand = brand\n",
        "        self.camera = camera\n",
        "\n",
        "    def buy(self):\n",
        "        print(\"Buying a phone\")\n",
        "\n",
        "class SmartPhone(Phone):\n",
        "    \n",
        "    def buy(self):\n",
        "        print(\"Buying a smartphone\")\n",
        "        # syntax to call parent buy method\n",
        "        super().buy() \n",
        "\n",
        "s = SmartPhone(90000,\"Apple\",48)\n",
        "s.buy()"
      ],
      "metadata": {
        "colab": {
          "base_uri": "https://localhost:8080/"
        },
        "id": "FBjkDvHcPMcu",
        "outputId": "972096fc-e5a4-4ae5-b1e0-4ec93b6674b7"
      },
      "execution_count": 27,
      "outputs": [
        {
          "output_type": "stream",
          "name": "stdout",
          "text": [
            "Inside phone constructor\n",
            "Buying a smartphone\n",
            "Buying a phone\n"
          ]
        }
      ]
    },
    {
      "cell_type": "code",
      "source": [
        "# super -> constructor\n",
        "class Phone:\n",
        "\n",
        "    def __init__(self,price,brand,camera):\n",
        "        print(\"Inside phone constructor\")\n",
        "        self.__price = price\n",
        "        self.brand = brand\n",
        "        self.camera = camera\n",
        "\n",
        "class SmartPhone(Phone):\n",
        "    \n",
        "    def __init__(self,price,brand,camera,os,ram):\n",
        "        print(\"inside smartphone constructor\")        \n",
        "        super().__init__(price, brand, camera)\n",
        "        self.os = os\n",
        "        self.ram = ram\n",
        "        print(\"inside smartphone constructor\")\n",
        "s = SmartPhone(90000,\"S22\",22,\"Android\",28)\n",
        "\n",
        "print(s.os)\n",
        "print(s.brand)"
      ],
      "metadata": {
        "colab": {
          "base_uri": "https://localhost:8080/"
        },
        "id": "d-izCFoKQQWS",
        "outputId": "e668b6f0-b86a-4401-b7ac-f6e740d11a34"
      },
      "execution_count": 29,
      "outputs": [
        {
          "output_type": "stream",
          "name": "stdout",
          "text": [
            "inside smartphone constructor\n",
            "Inside phone constructor\n",
            "inside smartphone constructor\n",
            "Android\n",
            "S22\n"
          ]
        }
      ]
    },
    {
      "cell_type": "markdown",
      "source": [
        "# Type of Inheritence\n",
        "* Single Inheritence\n",
        "* Multilevel Inheritence\n",
        "* Hierarchical Inheritence\n",
        "* Multiple Inheritence (Diamond Problem)\n",
        "* Hybrid Inheritence"
      ],
      "metadata": {
        "id": "TXX6PEBRTnOk"
      }
    },
    {
      "cell_type": "markdown",
      "source": [
        "# Polymorphism\n",
        "* Method Overriding\n",
        "* Method Overloading\n",
        "* Operator Overloading\n"
      ],
      "metadata": {
        "id": "GCi5RRIbWWjR"
      }
    },
    {
      "cell_type": "code",
      "source": [
        "# method overloading----> clean code and code readability increases\n",
        "\n",
        "# Python doesn't have method overloading\n",
        "class Shape:\n",
        "    \n",
        "    def area(self,radius):\n",
        "        return 3.14*radius*radius\n",
        "    \n",
        "    def area(self,l,b):\n",
        "        return l*b\n",
        "\n",
        "s1 = Shape()\n",
        "s1.area(34)\n",
        "s1.area(2,4)"
      ],
      "metadata": {
        "colab": {
          "base_uri": "https://localhost:8080/",
          "height": 261
        },
        "id": "Jx9OPyV2RLC4",
        "outputId": "387eb989-b212-4800-b5ff-5f01fe72bd7c"
      },
      "execution_count": 30,
      "outputs": [
        {
          "output_type": "error",
          "ename": "TypeError",
          "evalue": "ignored",
          "traceback": [
            "\u001b[0;31m---------------------------------------------------------------------------\u001b[0m",
            "\u001b[0;31mTypeError\u001b[0m                                 Traceback (most recent call last)",
            "\u001b[0;32m<ipython-input-30-a217e827a564>\u001b[0m in \u001b[0;36m<module>\u001b[0;34m\u001b[0m\n\u001b[1;32m     11\u001b[0m \u001b[0;34m\u001b[0m\u001b[0m\n\u001b[1;32m     12\u001b[0m \u001b[0ms1\u001b[0m \u001b[0;34m=\u001b[0m \u001b[0mShape\u001b[0m\u001b[0;34m(\u001b[0m\u001b[0;34m)\u001b[0m\u001b[0;34m\u001b[0m\u001b[0;34m\u001b[0m\u001b[0m\n\u001b[0;32m---> 13\u001b[0;31m \u001b[0ms1\u001b[0m\u001b[0;34m.\u001b[0m\u001b[0marea\u001b[0m\u001b[0;34m(\u001b[0m\u001b[0;36m34\u001b[0m\u001b[0;34m)\u001b[0m\u001b[0;34m\u001b[0m\u001b[0;34m\u001b[0m\u001b[0m\n\u001b[0m\u001b[1;32m     14\u001b[0m \u001b[0ms1\u001b[0m\u001b[0;34m.\u001b[0m\u001b[0marea\u001b[0m\u001b[0;34m(\u001b[0m\u001b[0;36m2\u001b[0m\u001b[0;34m,\u001b[0m\u001b[0;36m4\u001b[0m\u001b[0;34m)\u001b[0m\u001b[0;34m\u001b[0m\u001b[0;34m\u001b[0m\u001b[0m\n",
            "\u001b[0;31mTypeError\u001b[0m: area() missing 1 required positional argument: 'b'"
          ]
        }
      ]
    },
    {
      "cell_type": "code",
      "source": [
        "# alternate to method overloading\n",
        "class Shape:\n",
        "    \n",
        "    def area(self,a,b=0):\n",
        "        if b == 0:\n",
        "            return 3.14*a*a\n",
        "        else:\n",
        "            return a*b\n",
        "\n",
        "s = Shape()\n",
        "print(s.area(2))\n",
        "print(s.area(2,3))"
      ],
      "metadata": {
        "colab": {
          "base_uri": "https://localhost:8080/"
        },
        "id": "uA7s7VRGXiSv",
        "outputId": "fea94387-54bd-4fa2-d32d-6a6ad86f8f7b"
      },
      "execution_count": 31,
      "outputs": [
        {
          "output_type": "stream",
          "name": "stdout",
          "text": [
            "12.56\n",
            "6\n"
          ]
        }
      ]
    }
  ]
}