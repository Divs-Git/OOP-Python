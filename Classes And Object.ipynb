{
  "nbformat": 4,
  "nbformat_minor": 0,
  "metadata": {
    "colab": {
      "provenance": [],
      "authorship_tag": "ABX9TyOWY1kLh+75gU2F+PhyWQG9",
      "include_colab_link": true
    },
    "kernelspec": {
      "name": "python3",
      "display_name": "Python 3"
    },
    "language_info": {
      "name": "python"
    }
  },
  "cells": [
    {
      "cell_type": "markdown",
      "metadata": {
        "id": "view-in-github",
        "colab_type": "text"
      },
      "source": [
        "<a href=\"https://colab.research.google.com/github/Divs-Git/OOP-Python/blob/main/Classes%20And%20Object.ipynb\" target=\"_parent\"><img src=\"https://colab.research.google.com/assets/colab-badge.svg\" alt=\"Open In Colab\"/></a>"
      ]
    },
    {
      "cell_type": "markdown",
      "source": [
        "# Class and Objects"
      ],
      "metadata": {
        "id": "edltC9V-APeJ"
      }
    },
    {
      "cell_type": "markdown",
      "source": [
        "Class: Class is a blueprint"
      ],
      "metadata": {
        "id": "UvYuo7PBZtqz"
      }
    },
    {
      "cell_type": "code",
      "source": [
        "# L = [1,2,3]\n",
        "# print(type(L))"
      ],
      "metadata": {
        "colab": {
          "base_uri": "https://localhost:8080/"
        },
        "id": "8MlnBpgjYZ-_",
        "outputId": "3bd858a1-7a1f-4258-c04f-c53126d090de"
      },
      "execution_count": null,
      "outputs": [
        {
          "output_type": "stream",
          "name": "stdout",
          "text": [
            "<class 'list'>\n"
          ]
        }
      ]
    },
    {
      "cell_type": "code",
      "source": [],
      "metadata": {
        "id": "eutePhhc4uff"
      },
      "execution_count": null,
      "outputs": []
    },
    {
      "cell_type": "markdown",
      "source": [
        "Object: Instance of a class"
      ],
      "metadata": {
        "id": "-6sFFiCqdY4_"
      }
    },
    {
      "cell_type": "code",
      "source": [
        " #syntax to create object\n",
        "\n",
        "# object_name = class_name()"
      ],
      "metadata": {
        "id": "3hKCcacOZ-Mr"
      },
      "execution_count": null,
      "outputs": []
    },
    {
      "cell_type": "markdown",
      "source": [
        "Creating class\n"
      ],
      "metadata": {
        "id": "88nMM0AYdsDq"
      }
    },
    {
      "cell_type": "code",
      "source": [
        "class Atm:\n",
        "  # data are always defined inside the constructor class\n",
        "  # Constructor(special function)-> is called automatically\n",
        "  # at the time of object creation\n",
        "  def __init__(self):\n",
        "    self.pin = \"\"\n",
        "    self.balance = 0\n",
        "    print(\"Apne Aap ho gya\")\n",
        "\n",
        "sbi = Atm()\n",
        "print(type(sbi))"
      ],
      "metadata": {
        "id": "W4gi8AGsdfNd"
      },
      "execution_count": null,
      "outputs": []
    },
    {
      "cell_type": "markdown",
      "source": [
        "ATM Example"
      ],
      "metadata": {
        "id": "X41i_GPTfAVo"
      }
    },
    {
      "cell_type": "code",
      "source": [
        "class Atm:\n",
        "  \n",
        "    def __init__(self):\n",
        "        self.pin = \"\"\n",
        "        self.balance = 0\n",
        "        self.menu()\n",
        "\n",
        "    def menu(self):\n",
        "        user_input = input(\"\"\"\n",
        "        Hi, How Can I Help You:\n",
        "        1. Press 1 to create pin\n",
        "        2. Press 2 to change pin\n",
        "        3. Press 3 to check balance\n",
        "        4. Press 4 to withdraw\n",
        "        5. Press 5 to deposit\n",
        "        6. Anything else to exit \n",
        "        \"\"\")\n",
        "\n",
        "        if user_input == \"1\":\n",
        "            #create pin\n",
        "            self.create_pin()\n",
        "        elif user_input == \"2\":\n",
        "            #change pin\n",
        "            self.change_pin()\n",
        "        elif user_input == \"3\":\n",
        "            #balance check\n",
        "            self.check_balance()\n",
        "        elif user_input == \"4\":\n",
        "            #withdraw\n",
        "            self.withdraw()\n",
        "        elif user_input == \"5\":\n",
        "            #deposit\n",
        "            self.deposit()\n",
        "        else:\n",
        "            exit()\n",
        "\n",
        "    def create_pin(self):\n",
        "        self.pin = int(input(\"Enter Your Pin: \"))\n",
        "        self.balance = int(input(\"Enter Initial Balance: \"))\n",
        "        print(\"PIN Created Successfully\")\n",
        "        self.menu()\n",
        "\n",
        "    def change_pin(self):\n",
        "        old_pin = int(input(\"Enter Your Pin: \"))\n",
        "        if old_pin == self.pin:\n",
        "            new_pin = int(input(\"Enter new Pin: \"))\n",
        "            self.pin = new_pin\n",
        "            print(\"PIN Changed Succesfully\")\n",
        "        else:\n",
        "            print(\"Access Denied\")\n",
        "        self.menu()\n",
        "\n",
        "    def check_balance(self):\n",
        "        temp_pin = int(input(\"Enter You Pin: \"))\n",
        "        if temp_pin == self.pin:\n",
        "            print(\"Your Balance is:\",self.balance)\n",
        "        else:\n",
        "            print(\"Access Denied\")\n",
        "        self.menu()\n",
        "\n",
        "    def withdraw(self):\n",
        "        temp_pin = int(input(\"Enter You Pin: \"))\n",
        "        if temp_pin == self.pin:\n",
        "            amount = int(input(\"Enter The amount: \"))\n",
        "            if amount <= self.balance:\n",
        "                self.balance -= amount\n",
        "                print(\"Total Balance\",self.balance)\n",
        "            else:\n",
        "                print(\"Insufficient Funds\")\n",
        "        else:\n",
        "            print(\"Access Denied\")\n",
        "        self.menu()\n",
        "\n",
        "    def deposit(self):\n",
        "        temp_pin = int(input(\"Enter You Pin: \"))\n",
        "        if temp_pin == self.pin:\n",
        "            amount = int(input(\"Enter The amount: \"))\n",
        "            self.balance += amount\n",
        "            print(\"Total Balance\",self.balance)\n",
        "        else:\n",
        "            print(\"Access Denied\")\n",
        "        self.menu()"
      ],
      "metadata": {
        "id": "kcaKob-TeLYl"
      },
      "execution_count": null,
      "outputs": []
    },
    {
      "cell_type": "code",
      "source": [
        "cbi = Atm()"
      ],
      "metadata": {
        "id": "4d5BBKct9YD_"
      },
      "execution_count": null,
      "outputs": []
    },
    {
      "cell_type": "markdown",
      "source": [
        "Function vs Method:"
      ],
      "metadata": {
        "id": "Ztqc1gf03z16"
      }
    },
    {
      "cell_type": "code",
      "source": [
        "L = [1,2,3,4]\n",
        "len(L) #----> function\n",
        "L.append(4) #---->Method"
      ],
      "metadata": {
        "id": "SEdEFlQm3xBJ"
      },
      "execution_count": 2,
      "outputs": []
    },
    {
      "cell_type": "markdown",
      "source": [
        "Magic Methods: "
      ],
      "metadata": {
        "id": "1xsN4lQp4Umf"
      }
    },
    {
      "cell_type": "code",
      "source": [
        "# (__name__)\n",
        "# ex: Constructor __init___ is a magic method\n",
        "\n"
      ],
      "metadata": {
        "id": "Xwk2_iGN4LQD"
      },
      "execution_count": 3,
      "outputs": []
    },
    {
      "cell_type": "markdown",
      "source": [
        "**Constructor is used to write configurational realated code.**\n",
        "\n",
        "**User cannot access the code written inside constructor.**"
      ],
      "metadata": {
        "id": "Cv2P486N6DZA"
      }
    },
    {
      "cell_type": "code",
      "source": [
        "#Constructor"
      ],
      "metadata": {
        "id": "A3ZDYXAV6C1Q"
      },
      "execution_count": null,
      "outputs": []
    },
    {
      "cell_type": "markdown",
      "source": [
        "Self: It is the current object.\n",
        "**used for intra-method communication**\n",
        "We can use any other name instead of self but self is famous name given to the current object."
      ],
      "metadata": {
        "id": "JRV0RBbh6z1A"
      }
    },
    {
      "cell_type": "code",
      "source": [
        "#Self"
      ],
      "metadata": {
        "id": "NtNyHWxD6ynq"
      },
      "execution_count": null,
      "outputs": []
    },
    {
      "cell_type": "markdown",
      "source": [
        "Creating our own datatype:\n",
        "Fraction Class"
      ],
      "metadata": {
        "id": "jKt6k5ec8ynV"
      }
    },
    {
      "cell_type": "code",
      "source": [
        "class Fraction:\n",
        "\n",
        "    # Parameterized Constructor\n",
        "    def __init__(self,x,y):\n",
        "        self.num = x\n",
        "        self.deno = y\n",
        "\n",
        "    # print function search str magic method and return value is printed  \n",
        "    def __str__(self):\n",
        "        return \"{}/{}\".format(self.num,self.deno)\n",
        "\n",
        "    # add magic method is used to write logic for collabing two objects\n",
        "    # Automatically triggered when it sees + sign between objects\n",
        "    def __add__(self,other):\n",
        "        new_num = self.num*other.deno + self.deno*other.num\n",
        "        new_deno = self.deno * other.deno\n",
        "        return \"{}/{}\".format(new_num,new_deno)\n",
        "\n",
        "    # sub magic method\n",
        "    def __sub__(self,other):\n",
        "        new_num = self.num*other.deno - self.deno*other.num\n",
        "        new_deno = self.deno * other.deno\n",
        "        return \"{}/{}\".format(new_num,new_deno)\n",
        "\n",
        "    # mul magic method\n",
        "    def __mul__(self,other):\n",
        "        new_num = self.num * other.num\n",
        "        new_deno = self.deno * other.deno\n",
        "        return \"{}/{}\".format(new_num,new_deno)\n",
        "\n",
        "    # truediv magic method\n",
        "    def __truediv__(self,other):\n",
        "        new_num = self.num * other.deno\n",
        "        new_deno = self.deno * other.num\n",
        "        return \"{}/{}\".format(new_num,new_deno)"
      ],
      "metadata": {
        "id": "3HthUBZ98rqW"
      },
      "execution_count": 30,
      "outputs": []
    },
    {
      "cell_type": "code",
      "source": [
        "fr1 = Fraction(3,4)\n",
        "fr2 = Fraction(4,10)"
      ],
      "metadata": {
        "id": "SsYXcxDa9adh"
      },
      "execution_count": 31,
      "outputs": []
    },
    {
      "cell_type": "code",
      "source": [
        "print(fr1)\n",
        "print(fr2)\n",
        "print(fr1 + fr2)\n",
        "print(fr1 - fr2)\n",
        "print(fr1 * fr2)\n",
        "print(fr1 / fr2)"
      ],
      "metadata": {
        "colab": {
          "base_uri": "https://localhost:8080/",
          "height": 0
        },
        "id": "0pFA0iZA-A_V",
        "outputId": "f2a89e54-67f3-4f15-f75b-4f3b7c15e18b"
      },
      "execution_count": 32,
      "outputs": [
        {
          "output_type": "stream",
          "name": "stdout",
          "text": [
            "3/4\n",
            "4/10\n",
            "46/40\n",
            "14/40\n",
            "12/40\n",
            "30/16\n"
          ]
        }
      ]
    }
  ]
}